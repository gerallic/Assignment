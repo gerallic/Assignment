{
 "cells": [
  {
   "cell_type": "markdown",
   "id": "26bac5ab-f5e9-40bf-9261-f122b26c1283",
   "metadata": {},
   "source": [
    "# My Jupyter Notebook on IBM Watson Studio"
   ]
  },
  {
   "cell_type": "markdown",
   "id": "3e392043-f184-46cb-a6f5-9d8a6745e8ea",
   "metadata": {},
   "source": [
    "**Michael**\n",
    "I want to be a Data Scientist"
   ]
  },
  {
   "cell_type": "markdown",
   "id": "629ee248-d689-493e-b35b-00430873cc65",
   "metadata": {},
   "source": [
    "*I am interested in data science because i am passionate about data and deriving solutions for the day to day challenges which we face*"
   ]
  },
  {
   "cell_type": "markdown",
   "id": "8efb641c-f75a-469f-a9f5-37bff452ba76",
   "metadata": {},
   "source": [
    "### My code is going to print numbers from 0 to 5"
   ]
  },
  {
   "cell_type": "code",
   "execution_count": 2,
   "id": "cfe355ca-0b64-486b-adbf-b825908da0b6",
   "metadata": {},
   "outputs": [
    {
     "name": "stdout",
     "output_type": "stream",
     "text": [
      "0\n",
      "1\n",
      "2\n",
      "3\n",
      "4\n",
      "5\n"
     ]
    }
   ],
   "source": [
    "for i in range(6):\n",
    "    print(i)\n"
   ]
  },
  {
   "cell_type": "markdown",
   "id": "8d8b01b2-2e42-430d-9f6e-7ab3239ede71",
   "metadata": {},
   "source": [
    "***\n",
    "Horizontal Rule\n",
    "\n",
    "***\n",
    "<a href=\"www.goggle.com\" target=\"_blank\">Link to google</a>\n",
    "\n",
    "* First Item\n",
    "* Second Item\n",
    "* Third Item\n",
    "\n",
    "1. First Number\n",
    "2. Second Number\n",
    "3. Third Number"
   ]
  },
  {
   "cell_type": "code",
   "execution_count": null,
   "id": "410895a4-d9e5-4ef3-9a45-e25146ec83a0",
   "metadata": {},
   "outputs": [],
   "source": []
  }
 ],
 "metadata": {
  "kernelspec": {
   "display_name": "Python",
   "language": "python",
   "name": "conda-env-python-py"
  },
  "language_info": {
   "codemirror_mode": {
    "name": "ipython",
    "version": 3
   },
   "file_extension": ".py",
   "mimetype": "text/x-python",
   "name": "python",
   "nbconvert_exporter": "python",
   "pygments_lexer": "ipython3",
   "version": "3.7.12"
  }
 },
 "nbformat": 4,
 "nbformat_minor": 5
}
